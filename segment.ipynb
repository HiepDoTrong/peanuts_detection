{
 "cells": [
  {
   "cell_type": "code",
   "execution_count": 1,
   "metadata": {},
   "outputs": [],
   "source": [
    "import os\n",
    "import numpy as np\n",
    "import cv2 as cv\n",
    "from matplotlib import pyplot as plt"
   ]
  },
  {
   "cell_type": "code",
   "execution_count": null,
   "metadata": {},
   "outputs": [],
   "source": [
    "def thresh_split_chanel(img, thresh1, thresh2):\n",
    "    gray1 = img[:,:,1]\n",
    "    mask1 = cv.inRange(gray1, 0, thresh1) #90\n",
    "    gray2 = img[:,:,2]\n",
    "    mask2 = cv.inRange(gray2, thresh2, 255) #130\n",
    "    # combine white part of both images\n",
    "    mask = cv.bitwise_or(mask1, mask2)\n",
    "    return mask"
   ]
  },
  {
   "cell_type": "code",
   "execution_count": 2,
   "metadata": {},
   "outputs": [],
   "source": [
    "def center_crop(img, cut_width=0, cut_height=0):\n",
    "    width, height = img.shape[1], img.shape[0]\n",
    "    new_width = width - cut_width\n",
    "    new_height = height - cut_height\n",
    "    left = (width - new_width) / 2\n",
    "    top = (height - new_height) / 2\n",
    "    right = (width + new_width) / 2\n",
    "    bottom = (height + new_height) / 2\n",
    "    return img[int(top):int(bottom), int(left):int(right)]"
   ]
  },
  {
   "cell_type": "code",
   "execution_count": 3,
   "metadata": {},
   "outputs": [],
   "source": [
    "def crop_rotation(image, box, height, width):\n",
    "    \n",
    "\n",
    "    src_pts = box.astype(\"float32\")\n",
    "    dst_pts = np.array([[0, height],\n",
    "                        [0, 0],\n",
    "                        [width, 0],\n",
    "                        [width, height]], dtype=\"float32\")\n",
    "\n",
    "    M = cv.getPerspectiveTransform(src_pts, dst_pts)\n",
    "\n",
    "    # directly warp the rotated rectangle to get the straightened rectangle\n",
    "    warped = cv.warpPerspective(image, M, (width, height))\n",
    "    return warped"
   ]
  },
  {
   "cell_type": "code",
   "execution_count": 4,
   "metadata": {},
   "outputs": [
    {
     "data": {
      "text/plain": [
       "5"
      ]
     },
     "execution_count": 4,
     "metadata": {},
     "output_type": "execute_result"
    }
   ],
   "source": [
    "import os\n",
    "len(os.listdir('./'))"
   ]
  },
  {
   "cell_type": "code",
   "execution_count": 5,
   "metadata": {},
   "outputs": [],
   "source": [
    "def segmentation(img_path, background=False, rotation=False):\n",
    "\n",
    "    global count\n",
    "    assert os.path.exists(img_path), \"File does not exist\"\n",
    "    if background == False and rotation == False:\n",
    "        output_dir = \"/home/dotronghiep/Documents/Datasets/Peanuts/test/\"\n",
    "    elif background == False and rotation == True:\n",
    "        output_dir = \"/home/dotronghiep/Documents/Datasets/Peanuts/no_background_rotation/\"\n",
    "    elif background == True and rotation == False:\n",
    "        output_dir = \"/home/dotronghiep/Documents/Datasets/Peanuts/background_no_rotation/\"\n",
    "    else:\n",
    "        output_dir = \"/home/dotronghiep/Documents/Datasets/Peanuts/background_rotation/\"\n",
    "\n",
    "    min_height = 30\n",
    "    min_width = 30\n",
    "\n",
    "    extend_box = 10\n",
    "    # Đọc ảnh và chuyển đổi sang grayscale\n",
    "    img = cv.imread(img_path)\n",
    "    img = center_crop(img, 300)\n",
    "    gray = img[:,:,2]\n",
    "\n",
    "    threshold_value = 140\n",
    "    # Áp dụng ngưỡng\n",
    "    _, thresh = cv.threshold(gray, threshold_value, 255, cv.THRESH_BINARY_INV)\n",
    "\n",
    "    thresh = cv.bitwise_not(thresh)\n",
    "\n",
    "    # Loại bỏ nhiễu và xác định vùng nền chắc chắn\n",
    "    kernel = np.ones((3, 3), np.uint8)\n",
    "    opening = cv.morphologyEx(thresh, cv.MORPH_OPEN, kernel, iterations=1)\n",
    "    sure_bg = cv.dilate(opening, kernel, iterations=1)\n",
    "\n",
    "    # Xác định vùng chữ chắc chắn\n",
    "    dist_transform = cv.distanceTransform(opening, cv.DIST_L2, 5)\n",
    "    _, sure_fg = cv.threshold(dist_transform, 0.001 * dist_transform.max(), 255, 0)\n",
    "    sure_fg = np.uint8(sure_fg)\n",
    "\n",
    "    # Xác định vùng không xác định\n",
    "    unknown = cv.subtract(sure_bg, sure_fg)\n",
    "\n",
    "    # Nhãn các vùng\n",
    "    _, markers = cv.connectedComponents(sure_fg)\n",
    "    markers = markers + 1\n",
    "    markers[unknown == 255] = 0\n",
    "\n",
    "    # Watershed\n",
    "    markers = cv.watershed(img, markers)\n",
    "\n",
    "    # Tăng kích thước các đường viền\n",
    "    markers = markers.astype(np.uint8)\n",
    "    kernel_dilate = np.ones((3, 3), np.uint8)\n",
    "    markers = cv.dilate(markers, kernel_dilate, iterations=1)\n",
    "\n",
    "    non_background = img.copy()\n",
    "    non_background[markers==1] = 0\n",
    "\n",
    "    objects = np.logical_and(markers != 1, markers != 255)\n",
    "\n",
    "    # Find contours in the binary_markers image\n",
    "    contours, _ = cv.findContours(objects.astype(np.uint8), cv.RETR_EXTERNAL, cv.CHAIN_APPROX_SIMPLE)\n",
    "\n",
    "    if background==False:\n",
    "        base_image = non_background\n",
    "    else:\n",
    "        base_image = img\n",
    "\n",
    "    if rotation==True:\n",
    "        for contour in contours:    \n",
    "        # Tính toán hình chữ nhật có diện tích nhỏ nhất bao quanh contour  \n",
    "            rect = cv.minAreaRect(contour)\n",
    "            box = cv.boxPoints(rect)\n",
    "            box = np.int0(box) \n",
    "            # box = np.int0(box) + [[-10, -10], [10, -10], [10, 10], [-10, 10]] \n",
    "\n",
    "            w = int(rect[1][0])\n",
    "            h = int(rect[1][1])\n",
    "            if w >= min_width and h >= min_height:\n",
    "                output = crop_rotation(base_image, box, w, h)\n",
    "                image_name = f\"{i}.jpg\"\n",
    "                i+=1\n",
    "                cv.imwrite(os.path.join(output_dir, image_name), output)\n",
    "    else: \n",
    "        for contour in contours:    \n",
    "        # Tính toán hình chữ nhật có diện tích nhỏ nhất bao quanh contour\n",
    "            x, y, w, h = cv.boundingRect(contour)\n",
    "            new_w = w + extend_box\n",
    "            new_h = h + extend_box\n",
    "            new_x = x - extend_box\n",
    "            new_y = y - extend_box\n",
    "            if w >= min_width and h >= min_height and new_x>0 and new_y>0 and x+new_w<base_image.shape[1] and y+new_h<base_image.shape[0]:\n",
    "                output = base_image[new_y:y+new_h, new_x:x+new_w]\n",
    "                image_name = f\"{count}.png\"\n",
    "                cv.imwrite(os.path.join(output_dir, image_name), output)\n",
    "                count+=1"
   ]
  },
  {
   "cell_type": "code",
   "execution_count": 6,
   "metadata": {},
   "outputs": [],
   "source": [
    "folder_path = '/home/dotronghiep/Documents/Research/Peanuts_Anomaly_Detection_PAD/test/color_images'\n",
    "count = 0\n",
    "for filename in os.listdir(folder_path):\n",
    "    img_path = os.path.join(folder_path, filename)    \n",
    "    # Gọi hàm a trên ảnh\n",
    "    segmentation(img_path, background=False, rotation=False)"
   ]
  }
 ],
 "metadata": {
  "kernelspec": {
   "display_name": "PAD",
   "language": "python",
   "name": "python3"
  },
  "language_info": {
   "codemirror_mode": {
    "name": "ipython",
    "version": 3
   },
   "file_extension": ".py",
   "mimetype": "text/x-python",
   "name": "python",
   "nbconvert_exporter": "python",
   "pygments_lexer": "ipython3",
   "version": "3.9.18"
  }
 },
 "nbformat": 4,
 "nbformat_minor": 2
}
